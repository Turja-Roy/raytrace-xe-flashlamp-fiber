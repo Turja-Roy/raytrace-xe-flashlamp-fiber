{
 "cells": [
  {
   "cell_type": "markdown",
   "id": "474d88b5",
   "metadata": {},
   "source": [
    "\n",
    "# Two-Lens Monte-Carlo Ray-Tracing for Coupling a Xenon Flashlamp into a Fiber\n",
    "\n",
    "Performs a **non-paraxial Monte-Carlo ray-trace** through two real Thorlabs UV fused-silica plano-convex lenses and estimates the fraction of lamp rays that couple into a multimode fiber (1 mm core, NA=0.22) at **200 nm** (changeable). \n",
    "\n",
    "- ray generation for a 66° full divergence lamp\n",
    "- exact refraction at spherical surfaces (Snell vector form)\n",
    "- real lens prescriptions for Thorlabs\n",
    "- a sweep of lens combinations (imaging layout) and a spot diagram for the best pair"
   ]
  },
  {
   "cell_type": "code",
   "execution_count": 10,
   "id": "e8a2ed30",
   "metadata": {},
   "outputs": [],
   "source": [
    "import math, time, os\n",
    "import numpy as np\n",
    "import matplotlib.pyplot as plt\n",
    "import pandas as pd\n",
    "from tqdm import tqdm\n",
    "# %matplotlib widget\n",
    "\n",
    "# Plot style\n",
    "plt.rcParams.update({'figure.max_open_warning': 0})"
   ]
  },
  {
   "cell_type": "markdown",
   "id": "2ebc9c17",
   "metadata": {},
   "source": [
    "### Constants and Parameters"
   ]
  },
  {
   "cell_type": "code",
   "execution_count": 11,
   "id": "9af888b8",
   "metadata": {},
   "outputs": [],
   "source": [
    "WAVELENGTH_NM = 200.0                       # 200 nm\n",
    "\n",
    "# Fiber\n",
    "FIBER_CORE_DIAM_MM = 1.0                    # 1000 micron\n",
    "NA = 0.22\n",
    "ACCEPTANCE_HALF_RAD = np.deg2rad(12.4)\n",
    "\n",
    "# Source geometry\n",
    "SOURCE_ARC_DIAM_MM = 3.0                    # Arc diameter\n",
    "WINDOW_DIAM_MM = 14.3                       # Window diameter\n",
    "WINDOW_DISTANCE_MM = 8.7                    # Distance from arc to window\n",
    "MAX_ANGLE_DEG = 33                          # Maximum ray angle at window edge\n",
    "SOURCE_RADIUS_MM = SOURCE_ARC_DIAM_MM/2.0   # Source radius for ray generation\n",
    "\n",
    "# Position offset for lenses\n",
    "SOURCE_TO_LENS_OFFSET = WINDOW_DISTANCE_MM + 1  # Lenses start after the window\n",
    "\n",
    "# Rays\n",
    "N_RAYS = 1000\n",
    "\n",
    "# Date string\n",
    "DATE_STR = time.strftime(\"%Y-%m-%d\")"
   ]
  },
  {
   "cell_type": "markdown",
   "id": "38add677",
   "metadata": {},
   "source": [
    "### Calculating refractive index"
   ]
  },
  {
   "cell_type": "code",
   "execution_count": 12,
   "id": "4a2ccb20",
   "metadata": {},
   "outputs": [
    {
     "name": "stdout",
     "output_type": "stream",
     "text": [
      "fused silica n(200.0 nm) = 1.550506\n"
     ]
    }
   ],
   "source": [
    "def fused_silica_n(lambda_nm):\n",
    "    \"\"\"Compute fused silica refractive index (Malitson/Sellmeier) -- lambda in nm.\"\"\"\n",
    "    lam_um = lambda_nm / 1000.0\n",
    "    B1 = 0.6961663\n",
    "    B2 = 0.4079426\n",
    "    B3 = 0.8974794\n",
    "    C1 = 0.0684043**2\n",
    "    C2 = 0.1162414**2\n",
    "    C3 = 9.896161**2\n",
    "    lam2 = lam_um*lam_um\n",
    "    n2 = 1 + B1*lam2/(lam2 - C1) + B2*lam2/(lam2 - C2) + B3*lam2/(lam2 - C3)\n",
    "    return math.sqrt(n2)\n",
    "\n",
    "n_glass = fused_silica_n(WAVELENGTH_NM)\n",
    "print(f\"fused silica n({WAVELENGTH_NM} nm) = {n_glass:.6f}\")"
   ]
  },
  {
   "cell_type": "markdown",
   "id": "a2c81c1e",
   "metadata": {},
   "source": [
    "### Fetching Data"
   ]
  },
  {
   "cell_type": "code",
   "execution_count": 13,
   "id": "1a257ecf",
   "metadata": {},
   "outputs": [],
   "source": [
    "l1_candidates = pd.read_csv('./data/l1_candidates.csv')\n",
    "l2_candidates = pd.read_csv('./data/l2_candidates.csv')\n",
    "# lenses_candidates = pd.read_csv('./data/Thorlabs_Lenses.csv')\n",
    "\n",
    "lens1, lens2, lenses = {}, {}, {}\n",
    "\n",
    "for _, row in l1_candidates.iterrows():\n",
    "    lens1[row['Item #']] = {'dia': row['Diameter (mm)'], 'f_mm': row['Focal Length (mm)'],\n",
    "                             'R_mm': row['Radius of Curvature (mm)'], 't_mm': row['Center Thickness (mm)'],\n",
    "                             'BFL_mm': row['Back Focal Length (mm)']}\n",
    "for _, row in l2_candidates.iterrows():\n",
    "    lens2[row['Item #']] = {'dia': row['Diameter (mm)'], 'f_mm': row['Focal Length (mm)'],\n",
    "                             'R_mm': row['Radius of Curvature (mm)'], 't_mm': row['Center Thickness (mm)'],\n",
    "                             'BFL_mm': row['Back Focal Length (mm)']}\n",
    "# for _, row in lenses_candidates.iterrows():\n",
    "#     lenses[row['Part Number']] = {'dia': row['Diameter (mm)'], 'f_mm': row['Focal Length (mm)'],\n",
    "#                              'R_mm': row['Radius of Curvature (mm)'], 't_mm': row['Center Thickness (mm)'],\n",
    "#                              'BFL_mm': row['Back Focal Length (mm)']}\n",
    "\n",
    "lenses = lens1 | lens2\n",
    "\n",
    "# pd.DataFrame(lenses).T.style\n"
   ]
  },
  {
   "cell_type": "markdown",
   "id": "304c349e",
   "metadata": {},
   "source": [
    "### Ray-Tracing Helper Functions"
   ]
  },
  {
   "cell_type": "code",
   "execution_count": 14,
   "id": "0c5a7548",
   "metadata": {},
   "outputs": [],
   "source": [
    "def sample_rays(n_rays):\n",
    "    arc_radius = SOURCE_ARC_DIAM_MM / 2.0\n",
    "    \n",
    "    r = np.sqrt(np.random.rand(n_rays)) * arc_radius  # radial positions\n",
    "    phi = np.linspace(0, 2*np.pi, n_rays)  # angular positions around circle\n",
    "    \n",
    "    # Source points\n",
    "    x_source = r * np.cos(phi)\n",
    "    y_source = r * np.sin(phi)\n",
    "    origins = np.vstack([x_source, y_source, np.zeros_like(x_source)]).T\n",
    "\n",
    "    # Calculate coherent ray angles based on radial position\n",
    "    # Angle increases linearly with radius (0 at center, max_angle_deg at edge)\n",
    "    ray_angles = np.deg2rad(MAX_ANGLE_DEG * r / arc_radius)\n",
    "    \n",
    "    # Calculate ray directions in cylindrical coordinates\n",
    "    # phi is same as source point (coherent beam)\n",
    "    # theta=ray_angles is the angle from z-axis, varying with radius\n",
    "    x_dir = np.sin(ray_angles) * np.cos(phi)\n",
    "    y_dir = np.sin(ray_angles) * np.sin(phi)\n",
    "    z_dir = np.cos(ray_angles)\n",
    "    \n",
    "    # Stack directions and normalize\n",
    "    directions = np.vstack([x_dir, y_dir, z_dir]).T\n",
    "    directions = directions / np.linalg.norm(directions, axis=1)[:, np.newaxis]\n",
    "\n",
    "    return origins, directions\n",
    "\n",
    "\n",
    "def intersect_ray_sphere(o, d, c, R):\n",
    "    oc = o - c\n",
    "    b = 2 * np.dot(oc, d)\n",
    "    c0 = np.dot(oc,oc) - R*R\n",
    "    a = np.dot(d,d)\n",
    "    disc = b*b - 4*a*c0\n",
    "    if disc < 0:\n",
    "        return None\n",
    "    sqrt_d = math.sqrt(disc)\n",
    "    t1 = (-b - sqrt_d) / (2*a)\n",
    "    t2 = (-b + sqrt_d) / (2*a)\n",
    "    ts = [t for t in (t1,t2) if t>1e-9]\n",
    "    if not ts:\n",
    "        return None\n",
    "    return min(ts)\n",
    "\n",
    "\n",
    "def refract_vec(n_vec, v_in, n1, n2):\n",
    "    n_vec = np.array(n_vec); v_in = np.array(v_in)\n",
    "    n_vec = n_vec / np.linalg.norm(n_vec); v = v_in / np.linalg.norm(v_in)\n",
    "    cos_i = -np.dot(n_vec, v)\n",
    "    eta = n1 / n2\n",
    "    k = 1 - eta*eta * (1 - cos_i*cos_i)\n",
    "    if k < 0:\n",
    "        return None, True\n",
    "    v_out = eta * v + (eta * cos_i - math.sqrt(k)) * n_vec\n",
    "    v_out = v_out / np.linalg.norm(v_out)\n",
    "    return v_out, False"
   ]
  },
  {
   "cell_type": "markdown",
   "id": "f9e31603",
   "metadata": {},
   "source": [
    "### Define PlanoConvex class"
   ]
  },
  {
   "cell_type": "code",
   "execution_count": 15,
   "id": "aeb14499",
   "metadata": {},
   "outputs": [],
   "source": [
    "class PlanoConvex:\n",
    "    \"\"\"\n",
    "    A plano-convex lens with spherical front surface.\n",
    "    Front surface is convex (center of curvature on +z side).\n",
    "    Back surface is planar.\n",
    "    \"\"\"\n",
    "    def __init__(self, vertex_z_front, R_front_mm, thickness_mm, ap_rad_mm, n_glass):\n",
    "        \"\"\"Initialize lens with its parameters.\"\"\"\n",
    "        self.vertex_z_front = vertex_z_front\n",
    "        self.R_front_mm = R_front_mm\n",
    "        self.thickness_mm = thickness_mm\n",
    "        self.ap_rad_mm = ap_rad_mm\n",
    "        self.n_glass = n_glass\n",
    "        # Derived quantities\n",
    "        self.vertex_z_back = vertex_z_front + thickness_mm\n",
    "        self.center_z_front = vertex_z_front + R_front_mm\n",
    "    \n",
    "    def trace_ray(self, o, d, n1):\n",
    "        \"\"\"\n",
    "        Trace a ray through the lens.\n",
    "        \n",
    "        Parameters:\n",
    "        - o: 3D origin point\n",
    "        - d: 3D direction vector (normalized)\n",
    "        - n1: input refractive index\n",
    "        \n",
    "        Returns:\n",
    "        - (o_out, d_out, success)\n",
    "        \"\"\"\n",
    "        # Front surface (sphere)\n",
    "        c = np.array([0, 0, self.center_z_front])  # center\n",
    "        t = intersect_ray_sphere(o, d, c, self.R_front_mm)\n",
    "        if t is None: return None, None, False\n",
    "        p = o + t*d  # intersection point\n",
    "        \n",
    "        # Check aperture\n",
    "        if math.hypot(p[0], p[1]) > self.ap_rad_mm:\n",
    "            return None, None, False\n",
    "        \n",
    "        # Surface normal (points out of glass)\n",
    "        n = (p - c) / self.R_front_mm\n",
    "        \n",
    "        # Refract into glass\n",
    "        d_in, TIR = refract_vec(n, d, n1, self.n_glass)\n",
    "        if TIR: return None, None, False\n",
    "        \n",
    "        # Go to back surface (planar)\n",
    "        o_back = p + (self.thickness_mm/abs(d_in[2])) * d_in\n",
    "        \n",
    "        # Check aperture at back\n",
    "        if math.hypot(o_back[0], o_back[1]) > self.ap_rad_mm:\n",
    "            return None, None, False\n",
    "        \n",
    "        # Refract out of glass (planar surface, normal = -z)\n",
    "        d_out, TIR = refract_vec(np.array([0,0,-1]), d_in, self.n_glass, n1)\n",
    "        if TIR: return None, None, False\n",
    "        \n",
    "        return o_back, d_out, True"
   ]
  },
  {
   "cell_type": "markdown",
   "id": "6b257d61",
   "metadata": {},
   "source": [
    "### Trace rays through system and check success"
   ]
  },
  {
   "cell_type": "code",
   "execution_count": 16,
   "id": "e1cf7729",
   "metadata": {},
   "outputs": [],
   "source": [
    "def trace_system(origins, dirs, lens1, lens2, z_fiber, fiber_rad, acceptance_half_rad):\n",
    "    \"\"\"\n",
    "    Trace rays through system and check if they make it into the fiber.\n",
    "    \n",
    "    Parameters:\n",
    "    - origins, dirs: Nx3 arrays of ray origins and directions\n",
    "    - lens1, lens2: PlanoConvex objects for first and second lens\n",
    "    - z_fiber: z-position of fiber face\n",
    "    - fiber_rad: fiber core radius\n",
    "    - acceptance_half_rad: half-acceptance angle in radians\n",
    "    \n",
    "    Returns:\n",
    "    - accepted: boolean array indicating which rays made it into fiber\n",
    "    \"\"\"\n",
    "    n_rays = origins.shape[0]\n",
    "    accepted = np.zeros(n_rays, dtype=bool)\n",
    "    \n",
    "    for i in range(n_rays):\n",
    "        o = origins[i].copy()\n",
    "        d = dirs[i].copy()\n",
    "        \n",
    "        # Through first lens\n",
    "        out1 = lens1.trace_ray(o, d, 1.0)\n",
    "        if out1[2] is False: continue\n",
    "        o1, d1 = out1[0], out1[1]\n",
    "        \n",
    "        # Through second lens\n",
    "        out2 = lens2.trace_ray(o1, d1, 1.0)\n",
    "        if out2[2] is False: continue\n",
    "        o2, d2 = out2[0], out2[1]\n",
    "        \n",
    "        # Find intersection with fiber plane\n",
    "        if abs(d2[2]) < 1e-9: continue  # parallel to fiber face\n",
    "        t = (z_fiber - o2[2]) / d2[2]\n",
    "        if t < 0: continue  # going wrong way\n",
    "        p = o2 + t*d2\n",
    "        \n",
    "        # Check if within fiber core\n",
    "        if math.hypot(p[0], p[1]) > fiber_rad:\n",
    "            continue\n",
    "        \n",
    "        # Check if within acceptance angle\n",
    "        theta = math.acos(abs(d2[2]) / np.linalg.norm(d2))\n",
    "        if theta > acceptance_half_rad:\n",
    "            continue\n",
    "        \n",
    "        accepted[i] = True\n",
    "    \n",
    "    return accepted"
   ]
  },
  {
   "cell_type": "markdown",
   "id": "f77c1762",
   "metadata": {},
   "source": [
    "### Visualize ray tracing through the system"
   ]
  },
  {
   "cell_type": "code",
   "execution_count": 17,
   "id": "71203d5c",
   "metadata": {},
   "outputs": [],
   "source": [
    "def plot_system_rays(best_result, n_plot_rays=1000):\n",
    "    \"\"\"\n",
    "    Plot ray tracing through the optical system.\n",
    "    \"\"\"\n",
    "    # Create figure\n",
    "    fig = plt.figure(figsize=(12, 8))\n",
    "    ax = fig.add_subplot(111, projection='3d')\n",
    "    \n",
    "    # Get system parameters\n",
    "    z_l1 = best_result['z_l1']\n",
    "    z_l2 = best_result['z_l2']\n",
    "    z_fiber = best_result['z_fiber']\n",
    "    lens1_data = lenses[best_result['lens1']]\n",
    "    lens2_data = lenses[best_result['lens2']]\n",
    "    \n",
    "    # Create new rays for visualization\n",
    "    origins, dirs = sample_rays(n_plot_rays)\n",
    "    \n",
    "    # Create lens instances\n",
    "    lens1 = PlanoConvex(z_l1, lens1_data['R_mm'], lens1_data['t_mm'], \n",
    "                        lens1_data['dia']/2.0, n_glass)\n",
    "    lens2 = PlanoConvex(z_l2, lens2_data['R_mm'], lens2_data['t_mm'], \n",
    "                        lens2_data['dia']/2.0, n_glass)\n",
    "    \n",
    "    # Plot ray paths\n",
    "    for i in range(n_plot_rays):\n",
    "        points = []  # Will store all points along ray path\n",
    "        o = origins[i].copy()\n",
    "        d = dirs[i].copy()\n",
    "        points.append(o)\n",
    "        \n",
    "        # Through first lens\n",
    "        out1 = lens1.trace_ray(o, d, 1.0)\n",
    "        if out1[2] is False:\n",
    "            # Plot failed ray in red\n",
    "            points = np.array(points)\n",
    "            ax.plot(points[:,0], points[:,1], points[:,2], 'r-', alpha=0.2)\n",
    "            continue\n",
    "        o1, d1 = out1[0], out1[1]\n",
    "        points.append(o1)\n",
    "        \n",
    "        # Through second lens\n",
    "        out2 = lens2.trace_ray(o1, d1, 1.0)\n",
    "        if out2[2] is False:\n",
    "            # Plot failed ray in red\n",
    "            points = np.array(points)\n",
    "            ax.plot(points[:,0], points[:,1], points[:,2], 'r-', alpha=0.2)\n",
    "            continue\n",
    "        o2, d2 = out2[0], out2[1]\n",
    "        points.append(o2)\n",
    "        \n",
    "        # To fiber\n",
    "        if abs(d2[2]) < 1e-9:\n",
    "            continue\n",
    "        t = (z_fiber - o2[2]) / d2[2]\n",
    "        if t < 0:\n",
    "            continue\n",
    "        p_f = o2 + t * d2\n",
    "        points.append(p_f)\n",
    "        \n",
    "        # Check if accepted\n",
    "        r = math.hypot(p_f[0], p_f[1])\n",
    "        theta = math.acos(abs(d2[2]) / np.linalg.norm(d2))\n",
    "        color = 'g' if (r <= FIBER_CORE_DIAM_MM/2.0 and \n",
    "                       theta <= ACCEPTANCE_HALF_RAD) else 'r'\n",
    "        \n",
    "        # Plot complete ray path\n",
    "        points = np.array(points)\n",
    "        ax.plot(points[:,0], points[:,1], points[:,2], \n",
    "                color+'-', alpha=0.5)\n",
    "    \n",
    "    # Plot lens surfaces (simplified as disks)\n",
    "    theta = np.linspace(0, 2*np.pi, 100)\n",
    "    \n",
    "    # Lens 1 surfaces\n",
    "    r = np.linspace(0, lens1_data['dia']/2.0, 2)\n",
    "    t, r = np.meshgrid(theta, r)\n",
    "    x = r * np.cos(t)\n",
    "    y = r * np.sin(t)\n",
    "    ax.plot_surface(x, y, z_l1 + np.zeros_like(x), alpha=0.2, color='b')\n",
    "    ax.plot_surface(x, y, z_l1 + lens1_data['t_mm'] + np.zeros_like(x), \n",
    "                   alpha=0.2, color='b')\n",
    "    \n",
    "    # Lens 2 surfaces\n",
    "    r = np.linspace(0, lens2_data['dia']/2.0, 2)\n",
    "    t, r = np.meshgrid(theta, r)\n",
    "    x = r * np.cos(t)\n",
    "    y = r * np.sin(t)\n",
    "    ax.plot_surface(x, y, z_l2 + np.zeros_like(x), alpha=0.2, color='b')\n",
    "    ax.plot_surface(x, y, z_l2 + lens2_data['t_mm'] + np.zeros_like(x), \n",
    "                   alpha=0.2, color='b')\n",
    "    \n",
    "    # Plot fiber face\n",
    "    r = np.linspace(0, FIBER_CORE_DIAM_MM/2.0, 2)\n",
    "    t, r = np.meshgrid(theta, r)\n",
    "    x = r * np.cos(t)\n",
    "    y = r * np.sin(t)\n",
    "    ax.plot_surface(x, y, z_fiber + np.zeros_like(x), alpha=0.3, color='g')\n",
    "    \n",
    "    # Set equal aspect ratio\n",
    "    ax.set_box_aspect([1,1,1])\n",
    "    \n",
    "    # Labels\n",
    "    ax.set_xlabel('X (mm)')\n",
    "    ax.set_ylabel('Y (mm)')\n",
    "    ax.set_zlabel('Z (mm)')\n",
    "    plt.title(f\"Ray Trace: {best_result['lens1']} + {best_result['lens2']}, Coupling: {best_result['coupling']:.4f}\")\n",
    "    \n",
    "    # View angle\n",
    "    ax.view_init(elev=20, azim=45)\n",
    "    \n",
    "    plt.tight_layout()\n",
    "\n",
    "    # Save plot\n",
    "    if not os.path.exists('./plots_' + DATE_STR):\n",
    "        os.makedirs('./plots_' + DATE_STR)\n",
    "    plt.savefig(f\"./plots_{DATE_STR}/C-{best_result['coupling']:.4f}_L1-{best_result['lens1']}_L2-{best_result['lens2']}.png\")\n",
    "    plt.close(fig)\n",
    "    # plt.show()"
   ]
  },
  {
   "cell_type": "markdown",
   "id": "f434024a",
   "metadata": {},
   "source": [
    "### Simulation: coarse + refined grid search over lens positions"
   ]
  },
  {
   "cell_type": "code",
   "execution_count": 18,
   "id": "8e67715f",
   "metadata": {},
   "outputs": [
    {
     "name": "stdout",
     "output_type": "stream",
     "text": [
      "Using fused silica n = 1.5505055379224866\n",
      "Running coarse+refined grid sweep for 78 combos (this may take from a few minutes to hours)...\n"
     ]
    },
    {
     "name": "stderr",
     "output_type": "stream",
     "text": [
      "  0%|          | 0/78 [00:00<?, ?it/s]"
     ]
    },
    {
     "name": "stdout",
     "output_type": "stream",
     "text": [
      "\n",
      "Evaluating LA4194 + LA4024 ...\n"
     ]
    },
    {
     "name": "stderr",
     "output_type": "stream",
     "text": [
      "  1%|▏         | 1/78 [00:17<22:12, 17.30s/it]"
     ]
    },
    {
     "name": "stdout",
     "output_type": "stream",
     "text": [
      "best coupling=0.0215 at z_l1=2.88, z_l2=9.03\n",
      "\n",
      "Evaluating LA4194 + LA4026 ...\n"
     ]
    },
    {
     "name": "stderr",
     "output_type": "stream",
     "text": [
      "  3%|▎         | 2/78 [00:34<21:49, 17.23s/it]"
     ]
    },
    {
     "name": "stdout",
     "output_type": "stream",
     "text": [
      "best coupling=0.0740 at z_l1=2.88, z_l2=8.70\n",
      "\n",
      "Evaluating LA4194 + LA4036 ...\n"
     ]
    },
    {
     "name": "stderr",
     "output_type": "stream",
     "text": [
      "  4%|▍         | 3/78 [00:49<20:06, 16.09s/it]"
     ]
    },
    {
     "name": "stdout",
     "output_type": "stream",
     "text": [
      "best coupling=0.0763 at z_l1=2.88, z_l2=8.70\n",
      "\n",
      "Evaluating LA4194 + LA4249 ...\n"
     ]
    },
    {
     "name": "stderr",
     "output_type": "stream",
     "text": [
      "  5%|▌         | 4/78 [01:12<23:06, 18.73s/it]"
     ]
    },
    {
     "name": "stdout",
     "output_type": "stream",
     "text": [
      "best coupling=0.1330 at z_l1=6.29, z_l2=9.70\n",
      "\n",
      "Evaluating LA4194 + LA4280 ...\n"
     ]
    },
    {
     "name": "stderr",
     "output_type": "stream",
     "text": [
      "  6%|▋         | 5/78 [01:32<23:30, 19.32s/it]"
     ]
    },
    {
     "name": "stdout",
     "output_type": "stream",
     "text": [
      "best coupling=0.1387 at z_l1=6.29, z_l2=9.70\n",
      "\n",
      "Evaluating LA4194 + LA4001 ...\n"
     ]
    },
    {
     "name": "stderr",
     "output_type": "stream",
     "text": [
      "  8%|▊         | 6/78 [01:56<25:15, 21.05s/it]"
     ]
    },
    {
     "name": "stdout",
     "output_type": "stream",
     "text": [
      "best coupling=0.1440 at z_l1=9.70, z_l2=12.20\n",
      "\n",
      "Evaluating LA4194 + LA4042 ...\n"
     ]
    },
    {
     "name": "stderr",
     "output_type": "stream",
     "text": [
      "  9%|▉         | 7/78 [02:17<24:41, 20.86s/it]"
     ]
    },
    {
     "name": "stdout",
     "output_type": "stream",
     "text": [
      "best coupling=0.2520 at z_l1=8.00, z_l2=159.70\n",
      "\n",
      "Evaluating LA4194 + LA4043 ...\n"
     ]
    },
    {
     "name": "stderr",
     "output_type": "stream",
     "text": [
      " 10%|█         | 8/78 [02:35<23:32, 20.17s/it]"
     ]
    },
    {
     "name": "stdout",
     "output_type": "stream",
     "text": [
      "best coupling=0.1360 at z_l1=11.40, z_l2=363.87\n",
      "\n",
      "Evaluating LA4194 + LA4005 ...\n"
     ]
    },
    {
     "name": "stderr",
     "output_type": "stream",
     "text": [
      " 12%|█▏        | 9/78 [02:48<20:32, 17.87s/it]"
     ]
    },
    {
     "name": "stdout",
     "output_type": "stream",
     "text": [
      "best coupling=0.0973 at z_l1=11.40, z_l2=567.27\n",
      "\n",
      "Evaluating LA4194 + LA4021 ...\n"
     ]
    },
    {
     "name": "stderr",
     "output_type": "stream",
     "text": [
      " 13%|█▎        | 10/78 [03:12<22:20, 19.71s/it]"
     ]
    },
    {
     "name": "stdout",
     "output_type": "stream",
     "text": [
      "best coupling=0.2985 at z_l1=9.70, z_l2=99.70\n",
      "\n",
      "Evaluating LA4194 + LA4022 ...\n"
     ]
    },
    {
     "name": "stderr",
     "output_type": "stream",
     "text": [
      " 14%|█▍        | 11/78 [03:37<23:55, 21.42s/it]"
     ]
    },
    {
     "name": "stdout",
     "output_type": "stream",
     "text": [
      "best coupling=0.2580 at z_l1=9.70, z_l2=179.70\n",
      "\n",
      "Evaluating LA4194 + LA4033 ...\n"
     ]
    },
    {
     "name": "stderr",
     "output_type": "stream",
     "text": [
      " 15%|█▌        | 12/78 [03:59<23:36, 21.46s/it]"
     ]
    },
    {
     "name": "stdout",
     "output_type": "stream",
     "text": [
      "best coupling=0.1402 at z_l1=11.40, z_l2=405.53\n",
      "\n",
      "Evaluating LA4194 + LA4034 ...\n"
     ]
    },
    {
     "name": "stderr",
     "output_type": "stream",
     "text": [
      " 17%|█▋        | 13/78 [04:17<22:16, 20.56s/it]"
     ]
    },
    {
     "name": "stdout",
     "output_type": "stream",
     "text": [
      "best coupling=0.0832 at z_l1=11.40, z_l2=567.27\n",
      "\n",
      "Evaluating LA4647 + LA4024 ...\n"
     ]
    },
    {
     "name": "stderr",
     "output_type": "stream",
     "text": [
      " 18%|█▊        | 14/78 [04:33<20:20, 19.06s/it]"
     ]
    },
    {
     "name": "stdout",
     "output_type": "stream",
     "text": [
      "best coupling=0.0193 at z_l1=2.88, z_l2=11.70\n",
      "\n",
      "Evaluating LA4647 + LA4026 ...\n"
     ]
    },
    {
     "name": "stderr",
     "output_type": "stream",
     "text": [
      " 19%|█▉        | 15/78 [04:52<19:53, 18.94s/it]"
     ]
    },
    {
     "name": "stdout",
     "output_type": "stream",
     "text": [
      "best coupling=0.0558 at z_l1=2.88, z_l2=10.70\n",
      "\n",
      "Evaluating LA4647 + LA4036 ...\n"
     ]
    },
    {
     "name": "stderr",
     "output_type": "stream",
     "text": [
      " 21%|██        | 16/78 [05:10<19:28, 18.85s/it]"
     ]
    },
    {
     "name": "stdout",
     "output_type": "stream",
     "text": [
      "best coupling=0.0578 at z_l1=2.88, z_l2=10.70\n",
      "\n",
      "Evaluating LA4647 + LA4249 ...\n"
     ]
    },
    {
     "name": "stderr",
     "output_type": "stream",
     "text": [
      " 22%|██▏       | 17/78 [05:35<20:59, 20.65s/it]"
     ]
    },
    {
     "name": "stdout",
     "output_type": "stream",
     "text": [
      "best coupling=0.1310 at z_l1=6.29, z_l2=11.37\n",
      "\n",
      "Evaluating LA4647 + LA4280 ...\n"
     ]
    },
    {
     "name": "stderr",
     "output_type": "stream",
     "text": [
      " 23%|██▎       | 18/78 [05:55<20:16, 20.28s/it]"
     ]
    },
    {
     "name": "stdout",
     "output_type": "stream",
     "text": [
      "best coupling=0.1218 at z_l1=6.29, z_l2=11.37\n",
      "\n",
      "Evaluating LA4647 + LA4001 ...\n"
     ]
    },
    {
     "name": "stderr",
     "output_type": "stream",
     "text": [
      " 24%|██▍       | 19/78 [06:25<22:54, 23.30s/it]"
     ]
    },
    {
     "name": "stdout",
     "output_type": "stream",
     "text": [
      "best coupling=0.1440 at z_l1=9.70, z_l2=14.70\n",
      "\n",
      "Evaluating LA4647 + LA4042 ...\n"
     ]
    },
    {
     "name": "stderr",
     "output_type": "stream",
     "text": [
      " 26%|██▌       | 20/78 [06:46<21:53, 22.65s/it]"
     ]
    },
    {
     "name": "stdout",
     "output_type": "stream",
     "text": [
      "best coupling=0.2458 at z_l1=8.00, z_l2=159.70\n",
      "\n",
      "Evaluating LA4647 + LA4043 ...\n"
     ]
    },
    {
     "name": "stderr",
     "output_type": "stream",
     "text": [
      " 27%|██▋       | 21/78 [07:01<19:20, 20.35s/it]"
     ]
    },
    {
     "name": "stdout",
     "output_type": "stream",
     "text": [
      "best coupling=0.1320 at z_l1=11.40, z_l2=367.27\n",
      "\n",
      "Evaluating LA4647 + LA4005 ...\n"
     ]
    },
    {
     "name": "stderr",
     "output_type": "stream",
     "text": [
      " 28%|██▊       | 22/78 [07:19<18:17, 19.60s/it]"
     ]
    },
    {
     "name": "stdout",
     "output_type": "stream",
     "text": [
      "best coupling=0.0667 at z_l1=11.40, z_l2=508.94\n",
      "\n",
      "Evaluating LA4647 + LA4021 ...\n"
     ]
    },
    {
     "name": "stderr",
     "output_type": "stream",
     "text": [
      " 29%|██▉       | 23/78 [07:45<19:53, 21.70s/it]"
     ]
    },
    {
     "name": "stdout",
     "output_type": "stream",
     "text": [
      "best coupling=0.3087 at z_l1=9.70, z_l2=99.70\n",
      "\n",
      "Evaluating LA4647 + LA4022 ...\n"
     ]
    },
    {
     "name": "stderr",
     "output_type": "stream",
     "text": [
      " 31%|███       | 24/78 [08:12<20:44, 23.06s/it]"
     ]
    },
    {
     "name": "stdout",
     "output_type": "stream",
     "text": [
      "best coupling=0.2623 at z_l1=9.70, z_l2=179.70\n",
      "\n",
      "Evaluating LA4647 + LA4033 ...\n"
     ]
    },
    {
     "name": "stderr",
     "output_type": "stream",
     "text": [
      " 32%|███▏      | 25/78 [08:33<19:57, 22.60s/it]"
     ]
    },
    {
     "name": "stdout",
     "output_type": "stream",
     "text": [
      "best coupling=0.1407 at z_l1=11.40, z_l2=408.94\n",
      "\n",
      "Evaluating LA4647 + LA4034 ...\n"
     ]
    },
    {
     "name": "stderr",
     "output_type": "stream",
     "text": [
      " 33%|███▎      | 26/78 [08:55<19:23, 22.37s/it]"
     ]
    },
    {
     "name": "stdout",
     "output_type": "stream",
     "text": [
      "best coupling=0.0635 at z_l1=11.40, z_l2=508.94\n",
      "\n",
      "Evaluating LA4130 + LA4024 ...\n"
     ]
    },
    {
     "name": "stderr",
     "output_type": "stream",
     "text": [
      " 35%|███▍      | 27/78 [09:16<18:40, 21.96s/it]"
     ]
    },
    {
     "name": "stdout",
     "output_type": "stream",
     "text": [
      "best coupling=0.0158 at z_l1=3.31, z_l2=10.37\n",
      "\n",
      "Evaluating LA4130 + LA4026 ...\n"
     ]
    },
    {
     "name": "stderr",
     "output_type": "stream",
     "text": [
      " 36%|███▌      | 28/78 [09:43<19:28, 23.38s/it]"
     ]
    },
    {
     "name": "stdout",
     "output_type": "stream",
     "text": [
      "best coupling=0.0658 at z_l1=0.00, z_l2=8.70\n",
      "\n",
      "Evaluating LA4130 + LA4036 ...\n"
     ]
    },
    {
     "name": "stderr",
     "output_type": "stream",
     "text": [
      " 37%|███▋      | 29/78 [10:02<18:07, 22.19s/it]"
     ]
    },
    {
     "name": "stdout",
     "output_type": "stream",
     "text": [
      "best coupling=0.0717 at z_l1=0.00, z_l2=8.70\n",
      "\n",
      "Evaluating LA4130 + LA4249 ...\n"
     ]
    },
    {
     "name": "stderr",
     "output_type": "stream",
     "text": [
      " 38%|███▊      | 30/78 [10:21<16:56, 21.17s/it]"
     ]
    },
    {
     "name": "stdout",
     "output_type": "stream",
     "text": [
      "best coupling=0.0813 at z_l1=9.94, z_l2=13.03\n",
      "\n",
      "Evaluating LA4130 + LA4280 ...\n"
     ]
    },
    {
     "name": "stderr",
     "output_type": "stream",
     "text": [
      " 40%|███▉      | 31/78 [10:42<16:26, 21.00s/it]"
     ]
    },
    {
     "name": "stdout",
     "output_type": "stream",
     "text": [
      "best coupling=0.0762 at z_l1=9.94, z_l2=13.03\n",
      "\n",
      "Evaluating LA4130 + LA4001 ...\n"
     ]
    },
    {
     "name": "stderr",
     "output_type": "stream",
     "text": [
      " 41%|████      | 32/78 [11:03<16:17, 21.26s/it]"
     ]
    },
    {
     "name": "stdout",
     "output_type": "stream",
     "text": [
      "best coupling=0.0485 at z_l1=18.11, z_l2=23.11\n",
      "\n",
      "Evaluating LA4130 + LA4042 ...\n"
     ]
    },
    {
     "name": "stderr",
     "output_type": "stream",
     "text": [
      " 42%|████▏     | 33/78 [11:28<16:39, 22.22s/it]"
     ]
    },
    {
     "name": "stdout",
     "output_type": "stream",
     "text": [
      "best coupling=0.1703 at z_l1=22.31, z_l2=118.11\n",
      "\n",
      "Evaluating LA4130 + LA4043 ...\n"
     ]
    },
    {
     "name": "stderr",
     "output_type": "stream",
     "text": [
      " 44%|████▎     | 34/78 [11:47<15:38, 21.32s/it]"
     ]
    },
    {
     "name": "stdout",
     "output_type": "stream",
     "text": [
      "best coupling=0.0980 at z_l1=26.52, z_l2=130.68\n",
      "\n",
      "Evaluating LA4130 + LA4005 ...\n"
     ]
    },
    {
     "name": "stderr",
     "output_type": "stream",
     "text": [
      " 45%|████▍     | 35/78 [12:02<13:56, 19.45s/it]"
     ]
    },
    {
     "name": "stdout",
     "output_type": "stream",
     "text": [
      "best coupling=0.0980 at z_l1=26.52, z_l2=376.52\n",
      "\n",
      "Evaluating LA4130 + LA4021 ...\n"
     ]
    },
    {
     "name": "stderr",
     "output_type": "stream",
     "text": [
      " 46%|████▌     | 36/78 [12:24<14:11, 20.27s/it]"
     ]
    },
    {
     "name": "stdout",
     "output_type": "stream",
     "text": [
      "best coupling=0.1263 at z_l1=22.31, z_l2=36.52\n",
      "\n",
      "Evaluating LA4130 + LA4022 ...\n"
     ]
    },
    {
     "name": "stderr",
     "output_type": "stream",
     "text": [
      " 47%|████▋     | 37/78 [12:46<14:01, 20.53s/it]"
     ]
    },
    {
     "name": "stdout",
     "output_type": "stream",
     "text": [
      "best coupling=0.1925 at z_l1=22.31, z_l2=128.11\n",
      "\n",
      "Evaluating LA4130 + LA4033 ...\n"
     ]
    },
    {
     "name": "stderr",
     "output_type": "stream",
     "text": [
      " 49%|████▊     | 38/78 [13:08<14:08, 21.21s/it]"
     ]
    },
    {
     "name": "stdout",
     "output_type": "stream",
     "text": [
      "best coupling=0.0980 at z_l1=26.52, z_l2=172.35\n",
      "\n",
      "Evaluating LA4130 + LA4034 ...\n"
     ]
    },
    {
     "name": "stderr",
     "output_type": "stream",
     "text": [
      " 50%|█████     | 39/78 [13:31<14:02, 21.61s/it]"
     ]
    },
    {
     "name": "stdout",
     "output_type": "stream",
     "text": [
      "best coupling=0.1338 at z_l1=18.11, z_l2=522.35\n",
      "\n",
      "Evaluating LA4042 + LA4024 ...\n"
     ]
    },
    {
     "name": "stderr",
     "output_type": "stream",
     "text": [
      " 51%|█████▏    | 40/78 [13:48<12:50, 20.27s/it]"
     ]
    },
    {
     "name": "stdout",
     "output_type": "stream",
     "text": [
      "best coupling=0.0168 at z_l1=4.56, z_l2=10.37\n",
      "\n",
      "Evaluating LA4042 + LA4026 ...\n"
     ]
    },
    {
     "name": "stderr",
     "output_type": "stream",
     "text": [
      " 53%|█████▎    | 41/78 [14:07<12:18, 19.97s/it]"
     ]
    },
    {
     "name": "stdout",
     "output_type": "stream",
     "text": [
      "best coupling=0.0660 at z_l1=0.00, z_l2=8.70\n",
      "\n",
      "Evaluating LA4042 + LA4036 ...\n"
     ]
    },
    {
     "name": "stderr",
     "output_type": "stream",
     "text": [
      " 54%|█████▍    | 42/78 [14:21<10:49, 18.05s/it]"
     ]
    },
    {
     "name": "stdout",
     "output_type": "stream",
     "text": [
      "best coupling=0.0655 at z_l1=0.00, z_l2=8.70\n",
      "\n",
      "Evaluating LA4042 + LA4249 ...\n"
     ]
    },
    {
     "name": "stderr",
     "output_type": "stream",
     "text": [
      " 55%|█████▌    | 43/78 [14:41<10:56, 18.76s/it]"
     ]
    },
    {
     "name": "stdout",
     "output_type": "stream",
     "text": [
      "best coupling=0.0595 at z_l1=9.70, z_l2=14.70\n",
      "\n",
      "Evaluating LA4042 + LA4280 ...\n"
     ]
    },
    {
     "name": "stderr",
     "output_type": "stream",
     "text": [
      " 56%|█████▋    | 44/78 [15:03<11:07, 19.65s/it]"
     ]
    },
    {
     "name": "stdout",
     "output_type": "stream",
     "text": [
      "best coupling=0.0587 at z_l1=9.12, z_l2=16.37\n",
      "\n",
      "Evaluating LA4042 + LA4001 ...\n"
     ]
    },
    {
     "name": "stderr",
     "output_type": "stream",
     "text": [
      " 58%|█████▊    | 45/78 [15:23<10:53, 19.81s/it]"
     ]
    },
    {
     "name": "stdout",
     "output_type": "stream",
     "text": [
      "best coupling=0.0327 at z_l1=18.69, z_l2=33.08\n",
      "\n",
      "Evaluating LA4042 + LA4042 ...\n"
     ]
    },
    {
     "name": "stderr",
     "output_type": "stream",
     "text": [
      " 59%|█████▉    | 46/78 [15:41<10:12, 19.15s/it]"
     ]
    },
    {
     "name": "stdout",
     "output_type": "stream",
     "text": [
      "best coupling=0.1213 at z_l1=36.47, z_l2=46.47\n",
      "\n",
      "Evaluating LA4042 + LA4043 ...\n"
     ]
    },
    {
     "name": "stderr",
     "output_type": "stream",
     "text": [
      " 60%|██████    | 47/78 [15:57<09:27, 18.31s/it]"
     ]
    },
    {
     "name": "stdout",
     "output_type": "stream",
     "text": [
      "best coupling=0.0648 at z_l1=36.47, z_l2=223.97\n",
      "\n",
      "Evaluating LA4042 + LA4005 ...\n"
     ]
    },
    {
     "name": "stderr",
     "output_type": "stream",
     "text": [
      " 62%|██████▏   | 48/78 [16:13<08:51, 17.70s/it]"
     ]
    },
    {
     "name": "stdout",
     "output_type": "stream",
     "text": [
      "best coupling=0.0405 at z_l1=43.16, z_l2=123.97\n",
      "\n",
      "Evaluating LA4042 + LA4021 ...\n"
     ]
    },
    {
     "name": "stderr",
     "output_type": "stream",
     "text": [
      " 63%|██████▎   | 49/78 [16:28<08:10, 16.90s/it]"
     ]
    },
    {
     "name": "stdout",
     "output_type": "stream",
     "text": [
      "best coupling=0.0560 at z_l1=36.47, z_l2=41.47\n",
      "\n",
      "Evaluating LA4042 + LA4022 ...\n"
     ]
    },
    {
     "name": "stderr",
     "output_type": "stream",
     "text": [
      " 64%|██████▍   | 50/78 [16:47<08:08, 17.44s/it]"
     ]
    },
    {
     "name": "stdout",
     "output_type": "stream",
     "text": [
      "best coupling=0.1342 at z_l1=36.47, z_l2=46.47\n",
      "\n",
      "Evaluating LA4042 + LA4033 ...\n"
     ]
    },
    {
     "name": "stderr",
     "output_type": "stream",
     "text": [
      " 65%|██████▌   | 51/78 [17:05<07:54, 17.57s/it]"
     ]
    },
    {
     "name": "stdout",
     "output_type": "stream",
     "text": [
      "best coupling=0.1268 at z_l1=36.47, z_l2=369.80\n",
      "\n",
      "Evaluating LA4042 + LA4034 ...\n"
     ]
    },
    {
     "name": "stderr",
     "output_type": "stream",
     "text": [
      " 67%|██████▋   | 52/78 [17:20<07:18, 16.87s/it]"
     ]
    },
    {
     "name": "stdout",
     "output_type": "stream",
     "text": [
      "best coupling=0.1512 at z_l1=29.78, z_l2=503.13\n",
      "\n",
      "Evaluating LA4306 + LA4024 ...\n"
     ]
    },
    {
     "name": "stderr",
     "output_type": "stream",
     "text": [
      " 68%|██████▊   | 53/78 [17:41<07:30, 18.01s/it]"
     ]
    },
    {
     "name": "stdout",
     "output_type": "stream",
     "text": [
      "best coupling=0.0103 at z_l1=3.31, z_l2=14.37\n",
      "\n",
      "Evaluating LA4306 + LA4026 ...\n"
     ]
    },
    {
     "name": "stderr",
     "output_type": "stream",
     "text": [
      " 69%|██████▉   | 54/78 [18:04<07:47, 19.49s/it]"
     ]
    },
    {
     "name": "stdout",
     "output_type": "stream",
     "text": [
      "best coupling=0.0298 at z_l1=3.31, z_l2=14.70\n",
      "\n",
      "Evaluating LA4306 + LA4036 ...\n"
     ]
    },
    {
     "name": "stderr",
     "output_type": "stream",
     "text": [
      " 71%|███████   | 55/78 [18:24<07:32, 19.65s/it]"
     ]
    },
    {
     "name": "stdout",
     "output_type": "stream",
     "text": [
      "best coupling=0.0312 at z_l1=3.31, z_l2=14.70\n",
      "\n",
      "Evaluating LA4306 + LA4249 ...\n"
     ]
    },
    {
     "name": "stderr",
     "output_type": "stream",
     "text": [
      " 72%|███████▏  | 56/78 [18:48<07:40, 20.92s/it]"
     ]
    },
    {
     "name": "stdout",
     "output_type": "stream",
     "text": [
      "best coupling=0.0628 at z_l1=6.63, z_l2=18.03\n",
      "\n",
      "Evaluating LA4306 + LA4280 ...\n"
     ]
    },
    {
     "name": "stderr",
     "output_type": "stream",
     "text": [
      " 73%|███████▎  | 57/78 [19:10<07:27, 21.31s/it]"
     ]
    },
    {
     "name": "stdout",
     "output_type": "stream",
     "text": [
      "best coupling=0.0665 at z_l1=6.63, z_l2=18.03\n",
      "\n",
      "Evaluating LA4306 + LA4001 ...\n"
     ]
    },
    {
     "name": "stderr",
     "output_type": "stream",
     "text": [
      " 74%|███████▍  | 58/78 [19:30<07:00, 21.01s/it]"
     ]
    },
    {
     "name": "stdout",
     "output_type": "stream",
     "text": [
      "best coupling=0.0492 at z_l1=18.11, z_l2=25.61\n",
      "\n",
      "Evaluating LA4306 + LA4042 ...\n"
     ]
    },
    {
     "name": "stderr",
     "output_type": "stream",
     "text": [
      " 76%|███████▌  | 59/78 [19:55<07:01, 22.20s/it]"
     ]
    },
    {
     "name": "stdout",
     "output_type": "stream",
     "text": [
      "best coupling=0.1775 at z_l1=22.31, z_l2=118.11\n",
      "\n",
      "Evaluating LA4306 + LA4043 ...\n"
     ]
    },
    {
     "name": "stderr",
     "output_type": "stream",
     "text": [
      " 77%|███████▋  | 60/78 [20:18<06:41, 22.28s/it]"
     ]
    },
    {
     "name": "stdout",
     "output_type": "stream",
     "text": [
      "best coupling=0.0995 at z_l1=26.52, z_l2=130.68\n",
      "\n",
      "Evaluating LA4306 + LA4005 ...\n"
     ]
    },
    {
     "name": "stderr",
     "output_type": "stream",
     "text": [
      " 78%|███████▊  | 61/78 [20:35<05:54, 20.83s/it]"
     ]
    },
    {
     "name": "stdout",
     "output_type": "stream",
     "text": [
      "best coupling=0.0868 at z_l1=26.52, z_l2=376.52\n",
      "\n",
      "Evaluating LA4306 + LA4021 ...\n"
     ]
    },
    {
     "name": "stderr",
     "output_type": "stream",
     "text": [
      " 79%|███████▉  | 62/78 [21:00<05:54, 22.13s/it]"
     ]
    },
    {
     "name": "stdout",
     "output_type": "stream",
     "text": [
      "best coupling=0.1295 at z_l1=22.31, z_l2=36.52\n",
      "\n",
      "Evaluating LA4306 + LA4022 ...\n"
     ]
    },
    {
     "name": "stderr",
     "output_type": "stream",
     "text": [
      " 81%|████████  | 63/78 [21:24<05:37, 22.53s/it]"
     ]
    },
    {
     "name": "stdout",
     "output_type": "stream",
     "text": [
      "best coupling=0.1735 at z_l1=22.31, z_l2=128.11\n",
      "\n",
      "Evaluating LA4306 + LA4033 ...\n"
     ]
    },
    {
     "name": "stderr",
     "output_type": "stream",
     "text": [
      " 82%|████████▏ | 64/78 [21:47<05:17, 22.69s/it]"
     ]
    },
    {
     "name": "stdout",
     "output_type": "stream",
     "text": [
      "best coupling=0.0938 at z_l1=26.52, z_l2=151.52\n",
      "\n",
      "Evaluating LA4306 + LA4034 ...\n"
     ]
    },
    {
     "name": "stderr",
     "output_type": "stream",
     "text": [
      " 83%|████████▎ | 65/78 [22:08<04:49, 22.25s/it]"
     ]
    },
    {
     "name": "stdout",
     "output_type": "stream",
     "text": [
      "best coupling=0.1288 at z_l1=18.11, z_l2=522.35\n",
      "\n",
      "Evaluating LA4022 + LA4024 ...\n"
     ]
    },
    {
     "name": "stderr",
     "output_type": "stream",
     "text": [
      " 85%|████████▍ | 66/78 [22:30<04:27, 22.26s/it]"
     ]
    },
    {
     "name": "stdout",
     "output_type": "stream",
     "text": [
      "best coupling=0.0120 at z_l1=4.56, z_l2=13.03\n",
      "\n",
      "Evaluating LA4022 + LA4026 ...\n"
     ]
    },
    {
     "name": "stderr",
     "output_type": "stream",
     "text": [
      " 86%|████████▌ | 67/78 [22:52<04:04, 22.20s/it]"
     ]
    },
    {
     "name": "stdout",
     "output_type": "stream",
     "text": [
      "best coupling=0.0335 at z_l1=4.56, z_l2=12.70\n",
      "\n",
      "Evaluating LA4022 + LA4036 ...\n"
     ]
    },
    {
     "name": "stderr",
     "output_type": "stream",
     "text": [
      " 87%|████████▋ | 68/78 [23:12<03:33, 21.30s/it]"
     ]
    },
    {
     "name": "stdout",
     "output_type": "stream",
     "text": [
      "best coupling=0.0350 at z_l1=4.56, z_l2=12.70\n",
      "\n",
      "Evaluating LA4022 + LA4249 ...\n"
     ]
    },
    {
     "name": "stderr",
     "output_type": "stream",
     "text": [
      " 88%|████████▊ | 69/78 [23:36<03:20, 22.26s/it]"
     ]
    },
    {
     "name": "stdout",
     "output_type": "stream",
     "text": [
      "best coupling=0.0608 at z_l1=9.12, z_l2=16.37\n",
      "\n",
      "Evaluating LA4022 + LA4280 ...\n"
     ]
    },
    {
     "name": "stderr",
     "output_type": "stream",
     "text": [
      " 90%|████████▉ | 70/78 [23:58<02:57, 22.13s/it]"
     ]
    },
    {
     "name": "stdout",
     "output_type": "stream",
     "text": [
      "best coupling=0.0497 at z_l1=9.12, z_l2=18.03\n",
      "\n",
      "Evaluating LA4022 + LA4001 ...\n"
     ]
    },
    {
     "name": "stderr",
     "output_type": "stream",
     "text": [
      " 91%|█████████ | 71/78 [24:21<02:36, 22.41s/it]"
     ]
    },
    {
     "name": "stdout",
     "output_type": "stream",
     "text": [
      "best coupling=0.0305 at z_l1=23.08, z_l2=30.58\n",
      "\n",
      "Evaluating LA4022 + LA4042 ...\n"
     ]
    },
    {
     "name": "stderr",
     "output_type": "stream",
     "text": [
      " 92%|█████████▏| 72/78 [24:44<02:16, 22.68s/it]"
     ]
    },
    {
     "name": "stdout",
     "output_type": "stream",
     "text": [
      "best coupling=0.1207 at z_l1=36.47, z_l2=46.47\n",
      "\n",
      "Evaluating LA4022 + LA4043 ...\n"
     ]
    },
    {
     "name": "stderr",
     "output_type": "stream",
     "text": [
      " 94%|█████████▎| 73/78 [25:03<01:47, 21.58s/it]"
     ]
    },
    {
     "name": "stdout",
     "output_type": "stream",
     "text": [
      "best coupling=0.0628 at z_l1=36.47, z_l2=244.80\n",
      "\n",
      "Evaluating LA4022 + LA4005 ...\n"
     ]
    },
    {
     "name": "stderr",
     "output_type": "stream",
     "text": [
      " 95%|█████████▍| 74/78 [25:25<01:26, 21.69s/it]"
     ]
    },
    {
     "name": "stdout",
     "output_type": "stream",
     "text": [
      "best coupling=0.0447 at z_l1=43.16, z_l2=123.97\n",
      "\n",
      "Evaluating LA4022 + LA4021 ...\n"
     ]
    },
    {
     "name": "stderr",
     "output_type": "stream",
     "text": [
      " 96%|█████████▌| 75/78 [25:46<01:03, 21.26s/it]"
     ]
    },
    {
     "name": "stdout",
     "output_type": "stream",
     "text": [
      "best coupling=0.0567 at z_l1=36.47, z_l2=46.47\n",
      "\n",
      "Evaluating LA4022 + LA4022 ...\n"
     ]
    },
    {
     "name": "stderr",
     "output_type": "stream",
     "text": [
      " 97%|█████████▋| 76/78 [26:11<00:45, 22.55s/it]"
     ]
    },
    {
     "name": "stdout",
     "output_type": "stream",
     "text": [
      "best coupling=0.1198 at z_l1=36.47, z_l2=46.47\n",
      "\n",
      "Evaluating LA4022 + LA4033 ...\n"
     ]
    },
    {
     "name": "stderr",
     "output_type": "stream",
     "text": [
      " 99%|█████████▊| 77/78 [26:35<00:22, 22.97s/it]"
     ]
    },
    {
     "name": "stdout",
     "output_type": "stream",
     "text": [
      "best coupling=0.1278 at z_l1=36.47, z_l2=369.80\n",
      "\n",
      "Evaluating LA4022 + LA4034 ...\n"
     ]
    },
    {
     "name": "stderr",
     "output_type": "stream",
     "text": [
      "100%|██████████| 78/78 [26:58<00:00, 20.75s/it]"
     ]
    },
    {
     "name": "stdout",
     "output_type": "stream",
     "text": [
      "best coupling=0.1460 at z_l1=29.78, z_l2=503.13\n",
      "\n",
      "Summary (coarse+refined search):\n",
      "     z_l1       z_l2    z_fiber  coupling  lens1  lens2  f1_mm  f2_mm  total_len_mm\n",
      " 9.700000  99.700000 129.700000  0.308667 LA4647 LA4021   20.1   30.0    129.700000\n",
      " 9.700000  99.700000 129.700000  0.298500 LA4194 LA4021   20.1   30.0    129.700000\n",
      " 9.700000 179.700000 239.700000  0.262333 LA4647 LA4022   20.1   60.0    239.700000\n",
      " 9.700000 179.700000 239.700000  0.258000 LA4194 LA4022   20.1   60.0    239.700000\n",
      " 7.995833 159.700000 219.700000  0.252000 LA4194 LA4042   20.1   60.0    219.700000\n",
      " 7.995833 159.700000 219.700000  0.245833 LA4647 LA4042   20.1   60.0    219.700000\n",
      "22.312500 128.108333 188.108333  0.192500 LA4130 LA4022   40.1   60.0    188.108333\n",
      "22.312500 118.108333 178.108333  0.177500 LA4306 LA4042   40.1   60.0    178.108333\n",
      "22.312500 128.108333 188.108333  0.173500 LA4306 LA4022   40.1   60.0    188.108333\n",
      "22.312500 118.108333 178.108333  0.170333 LA4130 LA4042   40.1   60.0    178.108333\n",
      "29.775000 503.133333 678.133333  0.151167 LA4042 LA4034   60.0  175.0    678.133333\n",
      "29.775000 503.133333 678.133333  0.146000 LA4022 LA4034   60.0  175.0    678.133333\n",
      " 9.700000  12.200000  27.200000  0.144000 LA4194 LA4001   20.1   15.0     27.200000\n",
      " 9.700000  14.700000  29.700000  0.144000 LA4647 LA4001   20.1   15.0     29.700000\n",
      "11.404167 408.941667 533.941667  0.140667 LA4647 LA4033   20.1  125.0    533.941667\n",
      "11.404167 405.533333 530.533333  0.140167 LA4194 LA4033   20.1  125.0    530.533333\n",
      " 6.291667   9.700000  19.700000  0.138667 LA4194 LA4280   20.1   10.0     19.700000\n",
      "11.404167 363.866667 488.866667  0.136000 LA4194 LA4043   20.1  125.0    488.866667\n",
      "36.466667  46.466667 106.466667  0.134167 LA4042 LA4022   60.0   60.0    106.466667\n",
      "18.108333 522.350000 697.350000  0.133833 LA4130 LA4034   40.1  175.0    697.350000\n",
      " 6.291667   9.700000  19.700000  0.133000 LA4194 LA4249   20.1   10.0     19.700000\n",
      "11.404167 367.275000 492.275000  0.132000 LA4647 LA4043   20.1  125.0    492.275000\n",
      " 6.291667  11.366667  21.366667  0.131000 LA4647 LA4249   20.1   10.0     21.366667\n",
      "22.312500  36.516667  66.516667  0.129500 LA4306 LA4021   40.1   30.0     66.516667\n",
      "18.108333 522.350000 697.350000  0.128833 LA4306 LA4034   40.1  175.0    697.350000\n",
      "36.466667 369.800000 494.800000  0.127833 LA4022 LA4033   60.0  125.0    494.800000\n",
      "36.466667 369.800000 494.800000  0.126833 LA4042 LA4033   60.0  125.0    494.800000\n",
      "22.312500  36.516667  66.516667  0.126333 LA4130 LA4021   40.1   30.0     66.516667\n",
      " 6.291667  11.366667  21.366667  0.121833 LA4647 LA4280   20.1   10.0     21.366667\n",
      "36.466667  46.466667 106.466667  0.121333 LA4042 LA4042   60.0   60.0    106.466667\n",
      "36.466667  46.466667 106.466667  0.120667 LA4022 LA4042   60.0   60.0    106.466667\n",
      "36.466667  46.466667 106.466667  0.119833 LA4022 LA4022   60.0   60.0    106.466667\n",
      "26.516667 130.683333 255.683333  0.099500 LA4306 LA4043   40.1  125.0    255.683333\n",
      "26.516667 130.683333 255.683333  0.098000 LA4130 LA4043   40.1  125.0    255.683333\n",
      "26.516667 172.350000 297.350000  0.098000 LA4130 LA4033   40.1  125.0    297.350000\n",
      "26.516667 376.516667 551.516667  0.098000 LA4130 LA4005   40.1  175.0    551.516667\n",
      "11.404167 567.275000 742.275000  0.097333 LA4194 LA4005   20.1  175.0    742.275000\n",
      "26.516667 151.516667 276.516667  0.093833 LA4306 LA4033   40.1  125.0    276.516667\n",
      "26.516667 376.516667 551.516667  0.086833 LA4306 LA4005   40.1  175.0    551.516667\n",
      "11.404167 567.275000 742.275000  0.083167 LA4194 LA4034   20.1  175.0    742.275000\n",
      " 9.943750  13.033333  23.033333  0.081333 LA4130 LA4249   40.1   10.0     23.033333\n",
      " 2.883333   8.700000  14.700000  0.076333 LA4194 LA4036   20.1    6.0     14.700000\n",
      " 9.943750  13.033333  23.033333  0.076167 LA4130 LA4280   40.1   10.0     23.033333\n",
      " 2.883333   8.700000  14.700000  0.074000 LA4194 LA4026   20.1    6.0     14.700000\n",
      " 0.000000   8.700000  14.700000  0.071667 LA4130 LA4036   40.1    6.0     14.700000\n",
      "11.404167 508.941667 683.941667  0.066667 LA4647 LA4005   20.1  175.0    683.941667\n",
      " 6.629167  18.033333  28.033333  0.066500 LA4306 LA4280   40.1   10.0     28.033333\n",
      " 0.000000   8.700000  14.700000  0.066000 LA4042 LA4026   60.0    6.0     14.700000\n",
      " 0.000000   8.700000  14.700000  0.065833 LA4130 LA4026   40.1    6.0     14.700000\n",
      " 0.000000   8.700000  14.700000  0.065500 LA4042 LA4036   60.0    6.0     14.700000\n",
      "36.466667 223.966667 348.966667  0.064833 LA4042 LA4043   60.0  125.0    348.966667\n",
      "11.404167 508.941667 683.941667  0.063500 LA4647 LA4034   20.1  175.0    683.941667\n",
      " 6.629167  18.033333  28.033333  0.062833 LA4306 LA4249   40.1   10.0     28.033333\n",
      "36.466667 244.800000 369.800000  0.062833 LA4022 LA4043   60.0  125.0    369.800000\n",
      " 9.116667  16.366667  26.366667  0.060833 LA4022 LA4249   60.0   10.0     26.366667\n",
      " 9.700000  14.700000  24.700000  0.059500 LA4042 LA4249   60.0   10.0     24.700000\n",
      " 9.116667  16.366667  26.366667  0.058667 LA4042 LA4280   60.0   10.0     26.366667\n",
      " 2.883333  10.700000  16.700000  0.057833 LA4647 LA4036   20.1    6.0     16.700000\n",
      "36.466667  46.466667  76.466667  0.056667 LA4022 LA4021   60.0   30.0     76.466667\n",
      "36.466667  41.466667  71.466667  0.056000 LA4042 LA4021   60.0   30.0     71.466667\n",
      " 2.883333  10.700000  16.700000  0.055833 LA4647 LA4026   20.1    6.0     16.700000\n",
      " 9.116667  18.033333  28.033333  0.049667 LA4022 LA4280   60.0   10.0     28.033333\n",
      "18.108333  25.608333  40.608333  0.049167 LA4306 LA4001   40.1   15.0     40.608333\n",
      "18.108333  23.108333  38.108333  0.048500 LA4130 LA4001   40.1   15.0     38.108333\n",
      "43.158333 123.966667 298.966667  0.044667 LA4022 LA4005   60.0  175.0    298.966667\n",
      "43.158333 123.966667 298.966667  0.040500 LA4042 LA4005   60.0  175.0    298.966667\n",
      " 4.558333  12.700000  18.700000  0.035000 LA4022 LA4036   60.0    6.0     18.700000\n",
      " 4.558333  12.700000  18.700000  0.033500 LA4022 LA4026   60.0    6.0     18.700000\n",
      "18.693750  33.083333  48.083333  0.032667 LA4042 LA4001   60.0   15.0     48.083333\n",
      " 3.314583  14.700000  20.700000  0.031167 LA4306 LA4036   40.1    6.0     20.700000\n",
      "23.083333  30.583333  45.583333  0.030500 LA4022 LA4001   60.0   15.0     45.583333\n",
      " 3.314583  14.700000  20.700000  0.029833 LA4306 LA4026   40.1    6.0     20.700000\n",
      " 2.883333   9.033333  13.033333  0.021500 LA4194 LA4024   20.1    4.0     13.033333\n",
      " 2.883333  11.700000  15.700000  0.019333 LA4647 LA4024   20.1    4.0     15.700000\n",
      " 4.558333  10.366667  14.366667  0.016833 LA4042 LA4024   60.0    4.0     14.366667\n",
      " 3.314583  10.366667  14.366667  0.015833 LA4130 LA4024   40.1    4.0     14.366667\n",
      " 4.558333  13.033333  17.033333  0.012000 LA4022 LA4024   60.0    4.0     17.033333\n",
      " 3.314583  14.366667  18.366667  0.010333 LA4306 LA4024   40.1    4.0     18.366667\n",
      "\n",
      "Best combo overall: LA4647 LA4021 coupling = 0.30866666666666664\n"
     ]
    },
    {
     "name": "stderr",
     "output_type": "stream",
     "text": [
      "\n"
     ]
    }
   ],
   "source": [
    "n_glass = fused_silica_n(WAVELENGTH_NM)\n",
    "print('Using fused silica n =', n_glass)\n",
    "\n",
    "combos = []\n",
    "# for a in lenses:\n",
    "#     for b in lenses:\n",
    "#         combos.append((a,b))\n",
    "for a in lens1:\n",
    "    for b in lens2:\n",
    "        combos.append((a,b))\n",
    "\n",
    "# Evaluate a single configuration (given lens vertex positions and a fixed fiber z)\n",
    "def evaluate_config(z_l1, z_l2, origins, dirs, d1, d2, n_glass, z_fiber, n_rays):\n",
    "    lens1 = PlanoConvex(vertex_z_front=z_l1, R_front_mm=d1['R_mm'], thickness_mm=d1['t_mm'], ap_rad_mm=d1['dia'], n_glass=n_glass)\n",
    "    lens2 = PlanoConvex(vertex_z_front=z_l2, R_front_mm=d2['R_mm'], thickness_mm=d2['t_mm'], ap_rad_mm=d2['dia'], n_glass=n_glass)\n",
    "    accepted = trace_system(origins, dirs, lens1, lens2, z_fiber, FIBER_CORE_DIAM_MM/2.0, ACCEPTANCE_HALF_RAD)\n",
    "    coupling = np.count_nonzero(accepted) / n_rays\n",
    "    return coupling, accepted\n",
    "\n",
    "# Coarse + refine grid search per lens pair\n",
    "def run_grid(name1, name2, coarse_steps=9, refine_steps=11, n_coarse=3000, n_refine=8000):\n",
    "    d1 = lenses[name1]; d2 = lenses[name2]\n",
    "    f1 = d1['f_mm']; f2 = d2['f_mm']\n",
    "    # Generate ray set once per pair for fair comparison\n",
    "    origins_coarse, dirs_coarse = sample_rays(n_coarse)\n",
    "    # coarse search ranges: place lens1 roughly near its focal length, lens2 downstream\n",
    "    z_l1_min = SOURCE_TO_LENS_OFFSET\n",
    "    z_l1_max = f1 * 1.5\n",
    "    best = {'coupling': -1}\n",
    "    for z_l1 in np.linspace(z_l1_min, z_l1_max, coarse_steps):\n",
    "        # allow lens2 to vary relative to lens1; keep fiber at z_l2 + f2 (imaging plane assumption)\n",
    "        z_l2_min = z_l1 + f2 * 0.5\n",
    "        z_l2_max = z_l1 + f2 * 2.5\n",
    "        for z_l2 in np.linspace(z_l2_min, z_l2_max, coarse_steps):\n",
    "            z_fiber = z_l2 + f2\n",
    "            coupling, accepted = evaluate_config(z_l1, z_l2, origins_coarse, dirs_coarse, d1, d2, n_glass, z_fiber, n_coarse)\n",
    "            if coupling > best['coupling']:\n",
    "                best = {'z_l1':z_l1, 'z_l2':z_l2, 'z_fiber':z_fiber, 'coupling':coupling, 'accepted':accepted, 'origins':origins_coarse, 'dirs':dirs_coarse}\n",
    "    # refine around best\n",
    "    z1c = best['z_l1']; z2c = best['z_l2']\n",
    "    dz1 = max(0.05, (z_l1_max - z_l1_min) / (coarse_steps-1) )\n",
    "    dz2 = max(0.05, ( (z2c - (z1c + f2*0.5)) + ( (z1c + f2*2.5) - z2c) ) / (coarse_steps-1) )\n",
    "    z1_min = max(0.0, z1c - dz1*2)\n",
    "    z1_max = z1c + dz1*2\n",
    "    z2_min = max(z1_min + 0.1, z2c - dz2*2)\n",
    "    z2_max = z2c + dz2*2\n",
    "    origins_ref, dirs_ref = sample_rays(n_refine)\n",
    "    for z_l1 in np.linspace(z1_min, z1_max, refine_steps):\n",
    "        for z_l2 in np.linspace(z2_min, z2_max, refine_steps):\n",
    "            z_fiber = z_l2 + f2\n",
    "            coupling, accepted = evaluate_config(z_l1, z_l2, origins_ref, dirs_ref, d1, d2, n_glass, z_fiber, n_refine)\n",
    "            if coupling > best['coupling']:\n",
    "                best = {'z_l1':z_l1, 'z_l2':z_l2, 'z_fiber':z_fiber, 'coupling':coupling, 'accepted':accepted, 'origins':origins_ref, 'dirs':dirs_ref}\n",
    "    # attach metadata\n",
    "    best.update({'lens1':name1, 'lens2':name2, 'f1_mm':f1, 'f2_mm':f2, 'total_len_mm':best['z_fiber']})\n",
    "    \n",
    "    # Visualize this combination\n",
    "    plot_system_rays(best)\n",
    "    \n",
    "    return best\n",
    "\n",
    "# run sweep across all combos (coarse+refine)\n",
    "# Add a progress bar\n",
    "results = []\n",
    "print(f\"Running coarse+refined grid sweep for {len(combos)} combos (this may take from a few minutes to hours)...\")\n",
    "for (a,b) in tqdm(combos):\n",
    "    print(f\"\\nEvaluating {a} + {b} ...\")\n",
    "    res = run_grid(a,b, coarse_steps=7, refine_steps=9, n_coarse=2000, n_refine=6000)\n",
    "    print(f\"best coupling={res['coupling']:.4f} at z_l1={res['z_l1']:.2f}, z_l2={res['z_l2']:.2f}\")\n",
    "    results.append(res)\n",
    "\n",
    "# build a results DataFrame\n",
    "rows = [{k:v for k,v in r.items() if k in ['lens1','lens2','f1_mm','f2_mm','z_l1','z_l2','z_fiber','total_len_mm','coupling']} for r in results]\n",
    "df = pd.DataFrame(rows).sort_values(['coupling','total_len_mm'], ascending=[False, True]).reset_index(drop=True)\n",
    "print('\\nSummary (coarse+refined search):')\n",
    "print(df.to_string(index=False))\n",
    "\n",
    "# pick best overall\n",
    "best = results[np.argmax([r['coupling'] for r in results])]\n",
    "print('\\nBest combo overall:', best['lens1'], best['lens2'], 'coupling =', best['coupling'])\n",
    "\n",
    "# Spot diagram for best (use the origins/dirs that produced the reported best)\n",
    "accepted_mask = best['accepted']\n",
    "origins = best['origins']; dirs = best['dirs']\n",
    "# compute landing points\n",
    "land_x = np.full(origins.shape[0], np.nan)\n",
    "land_y = np.full(origins.shape[0], np.nan)\n",
    "for i in range(origins.shape[0]):\n",
    "    o = origins[i].copy(); d = dirs[i].copy()\n",
    "    out1 = PlanoConvex(vertex_z_front=best['z_l1'], R_front_mm=lenses[best['lens1']]['R_mm'], thickness_mm=lenses[best['lens1']]['t_mm'], ap_rad_mm=lenses[best['lens1']]['dia'], n_glass=n_glass).trace_ray(o,d,1.0)\n",
    "    if out1[2] is False: continue\n",
    "    o1,d1 = out1[0], out1[1]\n",
    "    out2 = PlanoConvex(vertex_z_front=best['z_l2'], R_front_mm=lenses[best['lens2']]['R_mm'], thickness_mm=lenses[best['lens2']]['t_mm'], ap_rad_mm=lenses[best['lens2']]['dia'], n_glass=n_glass).trace_ray(o1,d1,1.0)\n",
    "    if out2[2] is False: continue\n",
    "    o2,d2 = out2[0], out2[1]\n",
    "    if abs(d2[2])<1e-9: continue\n",
    "    t = (best['z_fiber'] - o2[2]) / d2[2]\n",
    "    if t < 0: continue\n",
    "    p = o2 + t * d2\n",
    "    land_x[i] = p[0]; land_y[i] = p[1]"
   ]
  },
  {
   "cell_type": "markdown",
   "id": "a27231cc",
   "metadata": {},
   "source": [
    "### Plot spot diagram"
   ]
  },
  {
   "cell_type": "code",
   "execution_count": 21,
   "id": "7f46df93",
   "metadata": {},
   "outputs": [],
   "source": [
    "plt.figure(figsize=(6,6))\n",
    "plt.scatter(land_x[~accepted_mask], land_y[~accepted_mask], s=1, color='red', alpha=0.3, label='rejected')\n",
    "plt.scatter(land_x[accepted_mask], land_y[accepted_mask], s=1, color='green', alpha=0.6, label='accepted')\n",
    "circle = plt.Circle((0,0), FIBER_CORE_DIAM_MM/2.0, color='blue', fill=False, linewidth=1.5, label='fiber core')\n",
    "ax = plt.gca(); ax.add_patch(circle)\n",
    "plt.xlabel('x (mm)'); plt.ylabel('y (mm)'); plt.title(f\"Spot diagram: {best['lens1']} + {best['lens2']} (coupling={best['coupling']:.4f})\")\n",
    "plt.axis('equal'); plt.grid(True); plt.legend()\n",
    "\n",
    "# Save spot diagram\n",
    "if not os.path.exists('./plots_' + DATE_STR):\n",
    "    os.makedirs('./plots_' + DATE_STR)\n",
    "plt.savefig(f\"./plots_{DATE_STR}/spot_C-{best['coupling']:.4f}_L1-{best['lens1']}_L2-{best['lens2']}.png\", dpi=300, bbox_inches='tight')\n",
    "plt.close()"
   ]
  },
  {
   "cell_type": "code",
   "execution_count": 20,
   "id": "93af408a",
   "metadata": {},
   "outputs": [],
   "source": [
    "# Save summary table to CSV and latex\n",
    "if not os.path.exists('./results_' + DATE_STR):\n",
    "    os.makedirs('./results_' + DATE_STR)\n",
    "df.to_csv('./results_' + DATE_STR + '/two_lens_coupling_summary.csv', index=False)\n",
    "df.to_latex('./results_' + DATE_STR + '/two_lens_coupling_summary.tex', index=False)"
   ]
  }
 ],
 "metadata": {
  "kernelspec": {
   "display_name": "Python 3",
   "language": "python",
   "name": "python3"
  },
  "language_info": {
   "codemirror_mode": {
    "name": "ipython",
    "version": 3
   },
   "file_extension": ".py",
   "mimetype": "text/x-python",
   "name": "python",
   "nbconvert_exporter": "python",
   "pygments_lexer": "ipython3",
   "version": "3.13.2"
  }
 },
 "nbformat": 4,
 "nbformat_minor": 5
}
