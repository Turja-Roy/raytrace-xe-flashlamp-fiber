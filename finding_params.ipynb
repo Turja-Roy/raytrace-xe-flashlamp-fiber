{
 "cells": [
  {
   "cell_type": "code",
   "execution_count": null,
   "id": "69b30149",
   "metadata": {},
   "outputs": [],
   "source": [
    "import math\n",
    "import numpy as np\n",
    "import pandas as pd\n",
    "import matplotlib.pyplot as plt"
   ]
  },
  {
   "cell_type": "markdown",
   "id": "bf9182ca",
   "metadata": {},
   "source": [
    "# Fetching Data"
   ]
  },
  {
   "cell_type": "code",
   "execution_count": null,
   "id": "79515b76",
   "metadata": {},
   "outputs": [],
   "source": [
    "df_tl = pd.read_csv('./data/ThorLabs_Lenses.csv')\n",
    "df_tl"
   ]
  },
  {
   "cell_type": "code",
   "execution_count": null,
   "id": "6ee6883e",
   "metadata": {},
   "outputs": [],
   "source": [
    "df_eo = pd.read_csv('./data/Edmund-Optics_Lenses.csv')\n",
    "df_eo"
   ]
  },
  {
   "cell_type": "code",
   "execution_count": null,
   "id": "d82b78b7",
   "metadata": {},
   "outputs": [],
   "source": [
    "# Combine both dataframes and save to CSV\n",
    "df = pd.concat([df_tl, df_eo], ignore_index=True)\n",
    "df.to_csv('./data/Combined_Lenses.csv', index=False)\n",
    "df"
   ]
  },
  {
   "cell_type": "code",
   "execution_count": null,
   "id": "14e1230e",
   "metadata": {},
   "outputs": [],
   "source": [
    "# Unique radii\n",
    "rad_ll = np.array(df['Diameter (mm)'].unique()) / 2\n",
    "print(\"Radii (mm):\", rad_ll)"
   ]
  },
  {
   "cell_type": "markdown",
   "id": "a72328a7",
   "metadata": {},
   "source": [
    "# Finding Candidates for Lens 1"
   ]
  },
  {
   "cell_type": "code",
   "execution_count": null,
   "id": "260f7b84",
   "metadata": {},
   "outputs": [],
   "source": [
    "z_0 = 11.01 # mm\n",
    "\n",
    "# Optimal focal lengths for 33 degree divergence\n",
    "optimal_f = np.array([ rad/np.tan(np.deg2rad(33)) for rad in rad_ll ])\n",
    "print(\"Optimal Focal Lengths (mm):\", optimal_f)\n",
    "\n",
    "# Finding the closest available focal lengths in the dataset\n",
    "available_f = df['Focal Length (mm)'].values\n",
    "closest_f = np.array([ min(available_f, key=lambda x: abs(x - opt_f)) for opt_f in optimal_f ])\n",
    "\n",
    "# Remove items that are smaller than z_0\n",
    "closest_f = closest_f[closest_f >= z_0]\n",
    "print(\"Closest Focal Lengths (mm):\", closest_f)\n",
    "\n",
    "# Finding all lens Item # for these focal lengths\n",
    "lens_items = [df[df['Focal Length (mm)'] == f]['Item #'].tolist() for f in closest_f]\n",
    "# Convert list of lists to a flat list and remove duplicates\n",
    "lens_items = list(set(item for sublist in lens_items for item in sublist))\n",
    "print(\"Lens Item Numbers:\", lens_items)\n",
    "\n",
    "# z values for these focal lengths\n",
    "z_values = closest_f - z_0\n",
    "print(\"z values (mm):\", z_values)"
   ]
  },
  {
   "cell_type": "code",
   "execution_count": null,
   "id": "8c26eb13",
   "metadata": {},
   "outputs": [],
   "source": [
    "# Fetch data for lens_items from the dataframe as a dataframe\n",
    "lens_data = df[df['Item #'].isin(lens_items)]\n",
    "lens_data = lens_data.sort_values(by='Diameter (mm)')\n",
    "lens_data.reset_index(drop=True, inplace=True)\n",
    "lens_data"
   ]
  },
  {
   "cell_type": "code",
   "execution_count": null,
   "id": "ae83a9af",
   "metadata": {},
   "outputs": [],
   "source": [
    "# Save lens data to CSV\n",
    "lens_data.to_csv('./data/l1_candidates.csv', index=False)"
   ]
  },
  {
   "cell_type": "markdown",
   "id": "a3ccf11d",
   "metadata": {},
   "source": [
    "# Finding Candidates for Lens 2"
   ]
  },
  {
   "cell_type": "code",
   "execution_count": null,
   "id": "641692d5",
   "metadata": {},
   "outputs": [],
   "source": [
    "acceptance_angle = np.deg2rad(12.4)  # 33 degrees in radians\n",
    "\n",
    "# Find z for each lens\n",
    "# z = radius / tan(acceptance_angle)\n",
    "z_values = rad_ll / np.tan(acceptance_angle)\n",
    "print(\"z values (mm):\", z_values)\n",
    "\n",
    "optimal_f = z_values\n",
    "\n",
    "# Finding the closest available focal lengths in the dataset\n",
    "available_f = df['Focal Length (mm)'].values\n",
    "closest_f = np.array([ min(available_f, key=lambda x: abs(x - opt_f)) for opt_f in optimal_f ])\n",
    "\n",
    "# Finding all lens Item # for these focal lengths\n",
    "lens_items = [df[df['Focal Length (mm)'] == f]['Item #'].tolist() for f in closest_f]\n",
    "# Convert list of lists to a flat list and remove duplicates\n",
    "lens_items = list(set(item for sublist in lens_items for item in sublist))\n",
    "print(\"Lens Item Numbers:\", lens_items)"
   ]
  },
  {
   "cell_type": "code",
   "execution_count": null,
   "id": "4d76581c",
   "metadata": {},
   "outputs": [],
   "source": [
    "# Fetch data for lens_items from the dataframe as a dataframe\n",
    "lens_data = df[df['Item #'].isin(lens_items)]\n",
    "lens_data = lens_data.sort_values(by='Diameter (mm)')\n",
    "lens_data.reset_index(drop=True, inplace=True)\n",
    "lens_data"
   ]
  },
  {
   "cell_type": "code",
   "execution_count": null,
   "id": "01631098",
   "metadata": {},
   "outputs": [],
   "source": [
    "# Save lens data to CSV\n",
    "lens_data.to_csv('./data/l2_candidates.csv', index=False)"
   ]
  },
  {
   "cell_type": "markdown",
   "id": "c021cbc1",
   "metadata": {},
   "source": [
    "### Used to prepare dataframe for use. No longer needed"
   ]
  },
  {
   "cell_type": "code",
   "execution_count": null,
   "id": "f7b216e7",
   "metadata": {},
   "outputs": [],
   "source": [
    "# df_tl = pd.read_csv('./data/ThorLabs_Lenses.csv').iloc[:, :-1]\n",
    "\n",
    "# def clean_value(val):\n",
    "#     if not isinstance(val, str):\n",
    "#         return val\n",
    "#     if 'mm' in val:\n",
    "#         return float(val.replace(' mm', ''))\n",
    "#     if '\"' in val:\n",
    "#         val = val.replace('\"', '')\n",
    "#         return float(eval(val)) * 25.4 if '/' in val else float(val) * 25.4\n",
    "#     return val\n",
    "\n",
    "# unit_columns = ['Diameter', 'Focal Length', 'Radius of Curvature', \n",
    "#                 'Center Thickness', 'Edge Thickness', 'Back Focal Length']\n",
    "\n",
    "# for col in unit_columns:\n",
    "#     df_tl[col] = df_tl[col].apply(clean_value)\n",
    "#     df_tl = df_tl.rename(columns={col: f'{col} (mm)'})\n",
    "\n",
    "# df_tl = df_tl.rename(columns={'Item #a': 'Item #', 'Diopterb': 'Diopter'})\n",
    "# # df_tl\n",
    "\n",
    "# # Delete the Diopter column (not needed)\n",
    "# df_tl = df_tl.drop(columns=['Diopter'])\n",
    "# df_tl.to_csv('./data/ThorLabs_Lenses.csv', index=False)\n",
    "\n",
    "# # Override existing file\n",
    "# df_tl.to_csv('./data/ThorLabs_Lenses.csv', index=False)"
   ]
  },
  {
   "cell_type": "code",
   "execution_count": null,
   "id": "02481acf",
   "metadata": {},
   "outputs": [],
   "source": [
    "# df_eo = pd.read_excel('./data/Edmund-Optics_Lenses.xlsx').iloc[:, [1,3,4,12,13,14,15]]\n",
    "\n",
    "# # Renamed Stock Number as Item #\n",
    "# # Used Clear Aperture (CA) as Diameter\n",
    "# # Truncated the error bars\n",
    "# # Used Effective Focal Length (EFL) as Focal Length\n",
    "\n",
    "# def clean_value(val):\n",
    "#     if not isinstance(val, str):\n",
    "#         return val\n",
    "#     if '±' in val:\n",
    "#         val = val.split('±')[0].strip()\n",
    "#     if '@' in val:\n",
    "#         val = val.split('@')[0].strip()\n",
    "#     return float(val)\n",
    "\n",
    "# unit_columns = ['CA (mm)', 'EFL (mm)', 'Radius R1 (mm)',\n",
    "#                 'CT (mm)', 'ET (mm)', 'BFL (mm)']\n",
    "\n",
    "# for col in unit_columns:\n",
    "#     df_eo[col] = df_eo[col].apply(clean_value)\n",
    "\n",
    "# # Rename columns to match ThorLabs format\n",
    "# df_eo = df_eo.rename(columns={\n",
    "#     'Stock Number': 'Item #',\n",
    "#     'EFL (mm)': 'Focal Length (mm)',\n",
    "#     'BFL (mm)': 'Back Focal Length (mm)',\n",
    "#     'CT (mm)': 'Center Thickness (mm)',\n",
    "#     'ET (mm)': 'Edge Thickness (mm)',\n",
    "#     'Radius R1 (mm)': 'Radius of Curvature (mm)',\n",
    "#     'CA (mm)': 'Diameter (mm)',\n",
    "# })\n",
    "\n",
    "# df_eo = df_eo[['Item #', 'Diameter (mm)', 'Focal Length (mm)', 'Radius of Curvature (mm)', 'Center Thickness (mm)', 'Edge Thickness (mm)', 'Back Focal Length (mm)']]\n",
    "\n",
    "# # Write to CSV\n",
    "# df_eo.to_csv('./data/Edmund-Optics_Lenses.csv', index=False)"
   ]
  }
 ],
 "metadata": {
  "kernelspec": {
   "display_name": "Python 3",
   "language": "python",
   "name": "python3"
  },
  "language_info": {
   "codemirror_mode": {
    "name": "ipython",
    "version": 3
   },
   "file_extension": ".py",
   "mimetype": "text/x-python",
   "name": "python",
   "nbconvert_exporter": "python",
   "pygments_lexer": "ipython3",
   "version": "3.13.7"
  }
 },
 "nbformat": 4,
 "nbformat_minor": 5
}
